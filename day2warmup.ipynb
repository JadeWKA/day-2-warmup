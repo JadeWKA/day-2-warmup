{
  "nbformat": 4,
  "nbformat_minor": 0,
  "metadata": {
    "colab": {
      "name": "day2warmup.ipynb",
      "provenance": [],
      "collapsed_sections": [],
      "authorship_tag": "ABX9TyNx8a+Kq8KW4XIekOJY1CBO",
      "include_colab_link": true
    },
    "kernelspec": {
      "name": "python3",
      "display_name": "Python 3"
    },
    "language_info": {
      "name": "python"
    }
  },
  "cells": [
    {
      "cell_type": "markdown",
      "metadata": {
        "id": "view-in-github",
        "colab_type": "text"
      },
      "source": [
        "<a href=\"https://colab.research.google.com/github/JadeWKA/day-2-warmup/blob/main/day2warmup.ipynb\" target=\"_parent\"><img src=\"https://colab.research.google.com/assets/colab-badge.svg\" alt=\"Open In Colab\"/></a>"
      ]
    },
    {
      "cell_type": "markdown",
      "source": [
        "#Using the Slice Syntax"
      ],
      "metadata": {
        "id": "vyGsoZTEid9r"
      }
    },
    {
      "cell_type": "code",
      "source": [
        "text = 'Hello World'\n",
        "#Define texr\n",
        "sliced_text = slice(5)\n",
        "# get slice object to slice Python\n",
        "print(text[sliced_text])\n",
        "#print sliced text"
      ],
      "metadata": {
        "colab": {
          "base_uri": "https://localhost:8080/"
        },
        "id": "T3E5yTochsBJ",
        "outputId": "8658a385-8319-4136-940d-c7872f4c6486"
      },
      "execution_count": 11,
      "outputs": [
        {
          "output_type": "stream",
          "name": "stdout",
          "text": [
            "Hello\n"
          ]
        }
      ]
    },
    {
      "cell_type": "code",
      "source": [
        "s = \"Hello World\" # initial string\n",
        "stringlength=len(s) # calculate length of the list\n",
        "slicedString=s[stringlength::-1] # slicing \n",
        "print (slicedString) # print the reversed string"
      ],
      "metadata": {
        "colab": {
          "base_uri": "https://localhost:8080/"
        },
        "id": "Fv7Ev3yqigfy",
        "outputId": "76897a24-0071-4dd1-99c5-39e8078425c0"
      },
      "execution_count": 12,
      "outputs": [
        {
          "output_type": "stream",
          "name": "stdout",
          "text": [
            "dlroW olleH\n"
          ]
        }
      ]
    },
    {
      "cell_type": "markdown",
      "source": [
        "Using the input() function"
      ],
      "metadata": {
        "id": "kPC-hV2FhsVx"
      }
    },
    {
      "cell_type": "code",
      "source": [
        "greeting = \"hello\"\n",
        "name = input(\"What's your name? \")\n",
        "stringlength=len(name) # calculate length of the list\n",
        "slicedString=name[stringlength::-1] # slicing \n",
        "print (slicedString) # print the reversed string"
      ],
      "metadata": {
        "colab": {
          "base_uri": "https://localhost:8080/"
        },
        "id": "q_DJ9SGhkoXw",
        "outputId": "1f95e30e-e729-4b4b-cd77-731ac5bb1b23"
      },
      "execution_count": 13,
      "outputs": [
        {
          "output_type": "stream",
          "name": "stdout",
          "text": [
            "What's your name? Jade\n",
            "edaJ\n"
          ]
        }
      ]
    },
    {
      "cell_type": "code",
      "source": [
        "greeting = \"hello\"\n",
        "#initialize greeting\n",
        "name = input(\"What's your name? \")\n",
        "#initialize name to input\n",
        "print(\"Hello, \" + name + \"! How are you?\")\n",
        "#print sentence"
      ],
      "metadata": {
        "colab": {
          "base_uri": "https://localhost:8080/"
        },
        "id": "Gfh69x1Rhu_V",
        "outputId": "44c27122-8e9e-40e3-a310-a04065de1d8a"
      },
      "execution_count": 14,
      "outputs": [
        {
          "output_type": "stream",
          "name": "stdout",
          "text": [
            "What's your name? Jade\n",
            "Hello, Jade! How are you?\n"
          ]
        }
      ]
    },
    {
      "cell_type": "code",
      "source": [
        "a = 0.5\n",
        "b = 'K'\n",
        "c = 1\n",
        "\n",
        "print(a,'is of type:',type(a))\n",
        "print(b,'is of type:',type(b))\n",
        "print(c,'is of type:',type(c))\n"
      ],
      "metadata": {
        "colab": {
          "base_uri": "https://localhost:8080/"
        },
        "id": "QGwm5PghhvJ6",
        "outputId": "2d356c0b-e375-44c0-db03-26a0f5deaaee"
      },
      "execution_count": 38,
      "outputs": [
        {
          "output_type": "stream",
          "name": "stdout",
          "text": [
            "0.5 is of type: <class 'float'>\n",
            "K is of type: <class 'str'>\n",
            "1 is of type: <class 'int'>\n"
          ]
        }
      ]
    },
    {
      "cell_type": "markdown",
      "source": [
        "Perform algebraic operations"
      ],
      "metadata": {
        "id": "qjIKA5myhvTT"
      }
    },
    {
      "cell_type": "code",
      "source": [
        "a = 2\n",
        "b = 4\n",
        "\n",
        "#initializing a and b values\n",
        "\n",
        "print(a + b)\n",
        "#print a + b"
      ],
      "metadata": {
        "colab": {
          "base_uri": "https://localhost:8080/"
        },
        "id": "PcN2CrMUhvbK",
        "outputId": "b58106db-c01b-4ebb-ed3b-3d1947295e04"
      },
      "execution_count": 18,
      "outputs": [
        {
          "output_type": "stream",
          "name": "stdout",
          "text": [
            "6\n"
          ]
        }
      ]
    },
    {
      "cell_type": "code",
      "source": [
        "import math\n",
        "#import math\n",
        "a = 1\n",
        "b = 2\n",
        "c = 3\n",
        "d = 4\n",
        "e = 5\n",
        "#initialize a b c d e\n",
        "print(math.sqrt(a))\n",
        "print(math.sqrt(b))\n",
        "print(math.sqrt(c))\n",
        "print(math.sqrt(d))\n",
        "print(math.sqrt(e))\n",
        "#print out the square root of 5 numbers"
      ],
      "metadata": {
        "colab": {
          "base_uri": "https://localhost:8080/"
        },
        "id": "kUjOPfZNhvjk",
        "outputId": "16cbf167-588e-413e-b6ca-7bc502d6523a"
      },
      "execution_count": 21,
      "outputs": [
        {
          "output_type": "stream",
          "name": "stdout",
          "text": [
            "1.0\n",
            "1.4142135623730951\n",
            "1.7320508075688772\n",
            "2.0\n",
            "2.23606797749979\n"
          ]
        }
      ]
    },
    {
      "cell_type": "code",
      "source": [
        "a = 1\n",
        "b = 2\n",
        "c = 3\n",
        "d = 4\n",
        "e = 5\n",
        "#initialize a b c d e\n",
        "print(e // a)\n",
        "print(d // b)\n",
        "print(c // b)\n",
        "print(b // a)\n",
        "print(a // b)\n",
        "\n",
        "#print out the whole number of 5 divisions"
      ],
      "metadata": {
        "colab": {
          "base_uri": "https://localhost:8080/"
        },
        "id": "_WIcF0hBhvrK",
        "outputId": "9849b803-1909-4265-e304-7d82f2497339"
      },
      "execution_count": 25,
      "outputs": [
        {
          "output_type": "stream",
          "name": "stdout",
          "text": [
            "5\n",
            "2\n",
            "1\n",
            "2\n",
            "0\n"
          ]
        }
      ]
    },
    {
      "cell_type": "markdown",
      "source": [
        "Lists and Arrays"
      ],
      "metadata": {
        "id": "k3Frpbr-hvyO"
      }
    },
    {
      "cell_type": "code",
      "source": [
        "list_a = [\"apple\", \"banana\", \"cherry\"]\n",
        "list_b = [\"pen\", \"eraser\"]\n",
        "list_c = list_a + list_b\n",
        "print(list_c)"
      ],
      "metadata": {
        "colab": {
          "base_uri": "https://localhost:8080/"
        },
        "id": "-yKnDVKuoF02",
        "outputId": "98824a13-2737-46fa-be8d-0a0943643a0b"
      },
      "execution_count": 26,
      "outputs": [
        {
          "output_type": "stream",
          "name": "stdout",
          "text": [
            "['apple', 'banana', 'cherry', 'pen', 'eraser']\n"
          ]
        }
      ]
    },
    {
      "cell_type": "code",
      "source": [
        "import array as arr\n",
        "\n",
        "a = arr.array('i', [1, 2, 3])\n",
        "b = arr.array('i', [4, 5, 6])\n",
        "\n",
        "c = a + b\n",
        "print(c)"
      ],
      "metadata": {
        "colab": {
          "base_uri": "https://localhost:8080/"
        },
        "id": "913qlmtWoGB3",
        "outputId": "006384d8-894d-4d52-ca1d-b1d71738d7f5"
      },
      "execution_count": 32,
      "outputs": [
        {
          "output_type": "stream",
          "name": "stdout",
          "text": [
            "array('i', [1, 2, 3, 4, 5, 6])\n"
          ]
        }
      ]
    },
    {
      "cell_type": "markdown",
      "source": [
        "Converting Objects"
      ],
      "metadata": {
        "id": "iXzENUEkoGJq"
      }
    },
    {
      "cell_type": "code",
      "source": [
        "a = 5\n",
        "print(a,'is of type:',type(a))\n",
        "\n",
        "a = float(a)\n",
        "print(a,'is of type:',type(a))\n",
        "\n",
        "def convert(s):\n",
        "  \n",
        "    # initialization of string to \"\"\n",
        "    new = \"\"\n",
        "  \n",
        "    # traverse in the string \n",
        "    for x in s:\n",
        "        new += x \n",
        "  \n",
        "    # return string \n",
        "    return new\n",
        "      \n",
        "      \n",
        "s = ['h', 'e', 'l', 'l', 'o']\n",
        "print(convert(s))"
      ],
      "metadata": {
        "colab": {
          "base_uri": "https://localhost:8080/"
        },
        "id": "4jsObIKaoGtT",
        "outputId": "8a10f7f1-92a1-4282-908e-db96c4f21ab1"
      },
      "execution_count": 34,
      "outputs": [
        {
          "output_type": "stream",
          "name": "stdout",
          "text": [
            "5 is of type: <class 'int'>\n",
            "5.0 is of type: <class 'float'>\n",
            "hello\n"
          ]
        }
      ]
    },
    {
      "cell_type": "code",
      "source": [
        "phrase = \"Concatenation is taking a string and appending another string into it. \"\n",
        "\n",
        "print(phrase.upper() + \"\\n\")\n",
        "\n",
        "#upper case"
      ],
      "metadata": {
        "colab": {
          "base_uri": "https://localhost:8080/"
        },
        "id": "9TlgaJpKoG0s",
        "outputId": "dfd12fb1-da6c-4691-db6e-50781907c5dc"
      },
      "execution_count": 36,
      "outputs": [
        {
          "output_type": "stream",
          "name": "stdout",
          "text": [
            "CONCATENATION IS TAKING A STRING AND APPENDING ANOTHER STRING INTO IT. \n",
            "\n"
          ]
        }
      ]
    },
    {
      "cell_type": "code",
      "source": [
        "a = \"Python\"\n",
        "\n",
        "print(a[0])\n",
        "print(a[1])\n",
        "print(a[2])\n",
        "print(a[3])\n",
        "print(a[4])\n",
        "print(a[5])"
      ],
      "metadata": {
        "colab": {
          "base_uri": "https://localhost:8080/"
        },
        "id": "_s3UBrLxqshl",
        "outputId": "c36f590b-103b-4a13-a702-75becccd4d5a"
      },
      "execution_count": 41,
      "outputs": [
        {
          "output_type": "stream",
          "name": "stdout",
          "text": [
            "P\n",
            "y\n",
            "t\n",
            "h\n",
            "o\n",
            "n\n"
          ]
        }
      ]
    },
    {
      "cell_type": "code",
      "source": [
        "list_a = [\"apple\", \"banana\", \"cherry\"]\n",
        "\n",
        "print(list_a[0])"
      ],
      "metadata": {
        "colab": {
          "base_uri": "https://localhost:8080/"
        },
        "id": "HrXE6gXZqstA",
        "outputId": "c10e9114-931a-44ae-8f1d-151163b76728"
      },
      "execution_count": 42,
      "outputs": [
        {
          "output_type": "stream",
          "name": "stdout",
          "text": [
            "apple\n"
          ]
        }
      ]
    }
  ]
}